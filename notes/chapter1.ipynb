{
 "cells": [
  {
   "cell_type": "code",
   "execution_count": 26,
   "metadata": {
    "collapsed": true
   },
   "outputs": [],
   "source": [
    "import numpy as np\n",
    "import matplotlib.pyplot as plt\n",
    "import matplotlib as mpl\n",
    "from sklearn import cluster, datasets\n",
    "from sklearn.neighbors import kneighbors_graph\n",
    "from sklearn.preprocessing import StandardScaler\n",
    "%matplotlib inline\n",
    "mpl.rcParams[\"font.size\"] = 16"
   ]
  },
  {
   "cell_type": "markdown",
   "metadata": {},
   "source": [
    "# Chapter1: Rosenblatt's Perceptron"
   ]
  },
  {
   "cell_type": "markdown",
   "metadata": {},
   "source": [
    "Figures without citation are taken from Haykin's book"
   ]
  },
  {
   "cell_type": "markdown",
   "metadata": {},
   "source": [
    "The perceptron is a single layer neural network."
   ]
  },
  {
   "cell_type": "markdown",
   "metadata": {},
   "source": [
    "![Signal-flow](./figs/1_1.png)"
   ]
  },
  {
   "cell_type": "markdown",
   "metadata": {
    "collapsed": true
   },
   "source": [
    "* $w_1, w_2, \\dots, w_m$: synaptic weights\n",
    "* $x_1, x_2, \\dots, x_m$: inputs applied to the perceptron\n",
    "* $b$: bias\n",
    "$$\n",
    "v = \\sum_{i=1}^m w_i x_i + b\n",
    "$$"
   ]
  },
  {
   "cell_type": "markdown",
   "metadata": {},
   "source": [
    "![hyperplane](figs/1_2.png)"
   ]
  },
  {
   "cell_type": "markdown",
   "metadata": {},
   "source": [
    "* $\\mathbf{w} = [b, w_1(n), w_2(n), \\dots, w_m(n)]^T$: synaptic weights + bias\n",
    "* $\\mathbf{x} = [+1, x_1(n), x_2(n), \\dots, x_m(n)]^T$: inputs applied to the perceptron\n",
    "* $b$: bias\n",
    "$$\n",
    "v(n) = \\sum_{i=0}^m w_i(n) x_i(n) = \\mathbf{w}^T(n) \\mathbf{x}(n)\n",
    "$$\n",
    "Note that $w_0(n) = b$ and $x_0(n) = +1$."
   ]
  },
  {
   "cell_type": "markdown",
   "metadata": {},
   "source": [
    "## Objection\n",
    "$\\mathscr{C}_1, \\mathscr{C}_2$\n",
    "* $\\mathbf{w}^T\\mathbf{x} > 0$ for every input vector $\\mathbf{x}$ belonging to class $\\mathscr{C}_1$\n",
    "* $\\mathbf{w}^T\\mathbf{x} \\leq 0$ for every input vector $\\mathbf{x}$ belonging to class $\\mathscr{C}_2$"
   ]
  },
  {
   "cell_type": "markdown",
   "metadata": {},
   "source": [
    "You need to understand the relationship between normal vector (法線ベクトル) and a plane. [For people who forget vector calculus.](http://mathworld.wolfram.com/NormalVector.html)"
   ]
  },
  {
   "cell_type": "markdown",
   "metadata": {},
   "source": [
    "## Learning algorithm\n",
    "## Proof of the perceptron convergence algorithm\n",
    "Mathematical derivation on whiteboard!"
   ]
  },
  {
   "cell_type": "markdown",
   "metadata": {},
   "source": [
    "![Perceptron convergence Algorithm](figs/tab1_1.png)"
   ]
  },
  {
   "cell_type": "markdown",
   "metadata": {},
   "source": [
    "## Illustration of learning algorithm"
   ]
  },
  {
   "cell_type": "markdown",
   "metadata": {},
   "source": [
    "Let $\\mathbf{w}(n)$ and $\\mathbf{x}(n)$ as follow"
   ]
  },
  {
   "cell_type": "code",
   "execution_count": 27,
   "metadata": {
    "collapsed": true
   },
   "outputs": [],
   "source": [
    "w = np.zeros(3).reshape(3, 1)\n",
    "w[0] = 4; w[1] = 3; w[2] = 1\n",
    "x = np.zeros(3).reshape(3, 1)\n",
    "x[0] = 1; x[1] = -3; x[2] = 2"
   ]
  },
  {
   "cell_type": "code",
   "execution_count": 28,
   "metadata": {
    "collapsed": false
   },
   "outputs": [
    {
     "name": "stdout",
     "output_type": "stream",
     "text": [
      "[[ 1.]\n",
      " [-3.]\n",
      " [ 2.]] \n",
      " [[ 4.]\n",
      " [ 3.]\n",
      " [ 1.]] \n",
      " [[ 5.]\n",
      " [ 0.]\n",
      " [ 3.]]\n"
     ]
    }
   ],
   "source": [
    "print(x, \"\\n\", w, \"\\n\", x+w)"
   ]
  },
  {
   "cell_type": "markdown",
   "metadata": {},
   "source": [
    "Each vector and decision boundary can be illustrated like this"
   ]
  },
  {
   "cell_type": "code",
   "execution_count": 29,
   "metadata": {
    "collapsed": false,
    "scrolled": false
   },
   "outputs": [
    {
     "data": {
      "text/plain": [
       "[<matplotlib.lines.Line2D at 0x11698da58>]"
      ]
     },
     "execution_count": 29,
     "metadata": {},
     "output_type": "execute_result"
    },
    {
     "data": {
      "image/png": "[encoded data removed]",
      "text/plain": [
       "<matplotlib.figure.Figure at 0x116934828>"
      ]
     },
     "metadata": {},
     "output_type": "display_data"
    }
   ],
   "source": [
    "lim = 10\n",
    "xs = np.linspace(-lim, lim, 100)\n",
    "a = -w[1] / w[2]\n",
    "b = -w[0] / w[2]\n",
    "ys = a * xs + b\n",
    "ax = plt.axes()\n",
    "ax.set_xlim((-lim, lim))\n",
    "ax.set_ylim((-lim, lim))\n",
    "ax.grid(True)\n",
    "ax.arrow(0, 0, w[1][0], w[2][0], head_width=0.5, head_length=1, fc='b', ec='b')\n",
    "ax.annotate(\"$\\mathbf{w}(n)$\", xy=(w[1][0]+1, w[2][0]+0.5), color=\"b\")\n",
    "ax.arrow(0, 0, x[0][0], x[1][0], head_width=0.5, head_length=1, fc='k', ec='k')\n",
    "ax.annotate(\"$\\mathbf{x}(n)$\", xy=(x[1][0]+4, x[2][0]-3.5), color=\"k\")\n",
    "#ax.legend()\n",
    "ax.plot(xs, ys, color=\"b\")"
   ]
  },
  {
   "cell_type": "markdown",
   "metadata": {},
   "source": [
    "According to the learning algorithm, if the $\\mathbf{x}(n)$ is miss classified the $\\mathbf{w}(n+1)$ is"
   ]
  },
  {
   "cell_type": "code",
   "execution_count": 30,
   "metadata": {
    "collapsed": true
   },
   "outputs": [],
   "source": [
    "wnew = w + x"
   ]
  },
  {
   "cell_type": "markdown",
   "metadata": {},
   "source": [
    "#  below looks somethitng wired... I'll fix it"
   ]
  },
  {
   "cell_type": "code",
   "execution_count": 31,
   "metadata": {
    "collapsed": false
   },
   "outputs": [
    {
     "data": {
      "text/plain": [
       "<matplotlib.text.Text at 0x11673ae48>"
      ]
     },
     "execution_count": 31,
     "metadata": {},
     "output_type": "execute_result"
    },
    {
     "data": {
      "image/png": "[encoded data removed]",
      "text/plain": [
       "<matplotlib.figure.Figure at 0x116875240>"
      ]
     },
     "metadata": {},
     "output_type": "display_data"
    }
   ],
   "source": [
    "lim = 10\n",
    "ax = plt.axes()\n",
    "xs = np.linspace(-lim, lim, 100)\n",
    "a = -w[1] / w[2]\n",
    "b = -w[0] / w[2]\n",
    "ys = a * xs + b\n",
    "ax.plot(xs, ys, color=\"b\")\n",
    "a = -wnew[1] / wnew[2]\n",
    "b = -wnew[0] / wnew[2]\n",
    "ys = a * xs + b\n",
    "ax.plot(xs, ys, color=\"r\")\n",
    "ax.set_xlim((-lim, lim))\n",
    "ax.set_ylim((-lim, lim))\n",
    "ax.grid(True)\n",
    "ax.arrow(0, 0, w[1][0], w[2][0], head_width=0.5, head_length=1, fc='b', ec='b')\n",
    "ax.annotate(\"$\\mathbf{w}(n)$\", xy=(w[1][0]+1.5, w[2][0]+0.5), color=\"b\")\n",
    "ax.arrow(0, 0, wnew[1][0], wnew[2][0], head_width=0.5, head_length=1, fc='r', ec='r')\n",
    "ax.annotate(\"$\\mathbf{w}(n+1)$\", xy=(wnew[1][0]+1, wnew[2][0]+0.5), color=\"r\")\n",
    "\n",
    "ax.arrow(-x[0][0], -x[1][0], wnew[1][0], wnew[2][0], head_width=0.5, head_length=1, fc='r', ec='r')\n",
    "ax.arrow(0, 0, -x[0][0], -x[1][0], head_width=0.5, head_length=1, fc='k', ec='k')\n",
    "\n",
    "\n",
    "ax.arrow(0, 0, x[0][0], x[1][0], head_width=0.5, head_length=1, fc='k', ec='k')\n",
    "ax.annotate(\"$\\mathbf{x}(n)$\", xy=(x[1][0]+4, x[2][0]-3.5), color=\"k\")\n",
    "ax.set_title(\"$\\mathbf{x}(n)^T\\mathbf{x}(n) > 0 $and $\\mathbf{x}(n) \\in \\mathscr{C}_2$\")\n",
    "#ax.legend()"
   ]
  },
  {
   "cell_type": "code",
   "execution_count": 32,
   "metadata": {
    "collapsed": false
   },
   "outputs": [
    {
     "data": {
      "text/plain": [
       "<matplotlib.text.Text at 0x1177398d0>"
      ]
     },
     "execution_count": 32,
     "metadata": {},
     "output_type": "execute_result"
    },
    {
     "data": {
      "image/png": "[encoded data removed]",
      "text/plain": [
       "<matplotlib.figure.Figure at 0x117732668>"
      ]
     },
     "metadata": {},
     "output_type": "display_data"
    }
   ],
   "source": [
    "lim = 10\n",
    "ax = plt.axes()\n",
    "xs = np.linspace(-lim, lim, 100)\n",
    "a = -w[1] / w[2]\n",
    "b = -w[0] / w[2]\n",
    "ys = a * xs + b\n",
    "ax.plot(xs, ys, color=\"b\")\n",
    "a = -wnew[1] / wnew[2]\n",
    "b = -wnew[0] / wnew[2]\n",
    "ys = a * xs + b\n",
    "ax.plot(xs, ys, color=\"r\")\n",
    "ax.set_xlim((-lim, lim))\n",
    "ax.set_ylim((-lim, lim))\n",
    "ax.grid(True)\n",
    "ax.arrow(0, 0, w[1][0], w[2][0], fc='b', ec='b')\n",
    "ax.annotate(\"$\\mathbf{w}(n)$\", xy=(w[1][0]+1, w[2][0]+0.5), color=\"b\")\n",
    "ax.arrow(0, 0, wnew[1][0], wnew[2][0], fc='r', ec='r')\n",
    "ax.annotate(\"$\\mathbf{w}(n+1)$\", xy=(wnew[1][0]+1, wnew[2][0]+0.5), color=\"r\")\n",
    "\n",
    "ax.arrow(-x[0][0], -x[1][0], wnew[1][0], wnew[2][0], fc='r', ec='r')\n",
    "ax.arrow(0, 0, -x[0][0], -x[1][0], fc='k', ec='k')\n",
    "\n",
    "\n",
    "ax.arrow(0, 0, x[0][0], x[1][0], head_width=0.5, head_length=1, fc='k', ec='k')\n",
    "ax.annotate(\"$\\mathbf{x}(n)$\", xy=(x[1][0]+4, x[2][0]-3.5), color=\"k\")\n",
    "ax.set_title(\"$\\mathbf{x}(n)^T\\mathbf{x}(n) > 0 $and $\\mathbf{x}(n) \\in \\mathscr{C}_2$\")\n",
    "#ax.legend()"
   ]
  },
  {
   "cell_type": "markdown",
   "metadata": {},
   "source": [
    "Note that $\\mathbf{x}(n)$ is in $\\mathscr{C}_2$ when we draw decision boundary with $\\mathbf{w}(n+1)$"
   ]
  },
  {
   "cell_type": "markdown",
   "metadata": {},
   "source": [
    "## Inplementation of the above procedures"
   ]
  },
  {
   "cell_type": "markdown",
   "metadata": {},
   "source": [
    "## Perceptron inplementation in scikit-learn"
   ]
  },
  {
   "cell_type": "markdown",
   "metadata": {},
   "source": [
    "Below example is retrieved from [here](http://stamfordresearch.com/scikit-learn-perceptron/) but modified."
   ]
  },
  {
   "cell_type": "code",
   "execution_count": 33,
   "metadata": {
    "collapsed": true
   },
   "outputs": [],
   "source": [
    "import numpy as np\n",
    "import matplotlib.pyplot as plt\n",
    "from sklearn.linear_model import perceptron\n",
    "from itertools import cycle\n",
    "# Needed to show the plots inline\n",
    "%matplotlib inline"
   ]
  },
  {
   "cell_type": "code",
   "execution_count": 34,
   "metadata": {
    "collapsed": true
   },
   "outputs": [],
   "source": [
    "def myperceptron(X, D, max_iter=100):\n",
    "    \"\"\"\n",
    "    input:\n",
    "    X: data. n rows(number of data points) and m+1 columns(features)\n",
    "    D: desired responses(labels). n rows\n",
    "    output:\n",
    "    w: (m+1) rows learned weights of a separatorixs\n",
    "    note that in this function, learning rate $\\mu$ is fixed to 1\n",
    "    \"\"\"\n",
    "    # add a column for bias parameter\n",
    "    X = np.c_[np.ones(X.shape[0]), X]\n",
    "    n, m = X.shape\n",
    "    w = np.zeros((m, 1)) \n",
    "    iter_ = cycle(zip(X, D))\n",
    "    num_iter = 0\n",
    "    for x, d in iter_:\n",
    "        y = np.sign(np.dot(w.T, x))\n",
    "        w += (d - y)*x.reshape((m, 1))\n",
    "        num_iter += 1\n",
    "        if num_iter == max_iter:\n",
    "            break\n",
    "    return w"
   ]
  },
  {
   "cell_type": "code",
   "execution_count": 35,
   "metadata": {
    "collapsed": true
   },
   "outputs": [],
   "source": [
    "X = np.array([\n",
    "[2, 1, 2, 5, 7, 2, 3, 6, 1, 2, 5, 4, 6, 5],\n",
    "[2, 3, 3, 3, 3, 4, 4, 4, 5, 5, 5, 6, 6, 7]\n",
    "]).T\n",
    "# Labels\n",
    "D = np.array([0, 0, 0, 1, 1, 0, 0, 1, 0, 0, 1, 1, 1, 1]).T"
   ]
  },
  {
   "cell_type": "code",
   "execution_count": 36,
   "metadata": {
    "collapsed": false
   },
   "outputs": [
    {
     "data": {
      "text/plain": [
       "<matplotlib.collections.PathCollection at 0x1174c0780>"
      ]
     },
     "execution_count": 36,
     "metadata": {},
     "output_type": "execute_result"
    },
    {
     "data": {
      "image/png": "[encoded data removed]",
      "text/plain": [
       "<matplotlib.figure.Figure at 0x1177649b0>"
      ]
     },
     "metadata": {},
     "output_type": "display_data"
    }
   ],
   "source": [
    "colormap = np.array(['r', 'k'])\n",
    "plt.scatter(X[:, 0], X[:, 1], c=colormap[D[:]], s=40)"
   ]
  },
  {
   "cell_type": "code",
   "execution_count": 37,
   "metadata": {
    "collapsed": false
   },
   "outputs": [
    {
     "name": "stdout",
     "output_type": "stream",
     "text": [
      "w:\n",
      " [[-29.]\n",
      " [  6.]\n",
      " [  2.]]\n"
     ]
    }
   ],
   "source": [
    "w = myperceptron(X, D, max_iter=100000)\n",
    "print(\"w:\\n\", w)"
   ]
  },
  {
   "cell_type": "markdown",
   "metadata": {},
   "source": [
    "Illustrate the line $y = ax +b$ from the result."
   ]
  },
  {
   "cell_type": "code",
   "execution_count": 38,
   "metadata": {
    "collapsed": false
   },
   "outputs": [],
   "source": [
    "a = -w[1] / w[2]\n",
    "b = -w[0] / w[2]\n",
    "xs = np.linspace(X[:, 0].min()-0.5, X[:, 1].max()+0.5)\n",
    "ys = a * xs + b"
   ]
  },
  {
   "cell_type": "code",
   "execution_count": 39,
   "metadata": {
    "collapsed": false
   },
   "outputs": [
    {
     "data": {
      "text/plain": [
       "[<matplotlib.lines.Line2D at 0x1174e4be0>]"
      ]
     },
     "execution_count": 39,
     "metadata": {},
     "output_type": "execute_result"
    },
    {
     "data": {
      "image/png": "[encoded data removed]",
      "text/plain": [
       "<matplotlib.figure.Figure at 0x1174e49e8>"
      ]
     },
     "metadata": {},
     "output_type": "display_data"
    }
   ],
   "source": [
    "colormap = np.array(['r', 'k'])\n",
    "plt.scatter(X[:, 0], X[:, 1], c=colormap[D[:]], s=40)\n",
    "plt.plot(xs, ys)"
   ]
  },
  {
   "cell_type": "markdown",
   "metadata": {},
   "source": [
    "## Perceptron in sklearn\n",
    "note: learning algorithm in sklearn's perceptron is stochastic gradient descent"
   ]
  },
  {
   "cell_type": "code",
   "execution_count": 40,
   "metadata": {
    "collapsed": false
   },
   "outputs": [
    {
     "name": "stdout",
     "output_type": "stream",
     "text": [
      "Prediction [0 0 0 1 1 0 0 1 0 0 1 1 1 1]\n",
      "Actual     [0 0 0 1 1 0 0 1 0 0 1 1 1 1]\n",
      "Accuracy   100.0%\n"
     ]
    }
   ],
   "source": [
    "# Create the model\n",
    "net = perceptron.Perceptron(n_iter=100, verbose=0, random_state=None, fit_intercept=True, eta0=0.002)\n",
    "net.fit(X,D)\n",
    "# Print the results\n",
    "print(\"Prediction \" + str(net.predict(X)))\n",
    "print(\"Actual     \" + str(D))\n",
    "print(\"Accuracy   \" + str(net.score(X, D)*100) + \"%\")"
   ]
  },
  {
   "cell_type": "code",
   "execution_count": 41,
   "metadata": {
    "collapsed": false
   },
   "outputs": [
    {
     "name": "stdout",
     "output_type": "stream",
     "text": [
      "Coefficient 0 0.036\n",
      "Coefficient 1 -0.016\n",
      "Bias [-0.046]\n"
     ]
    },
    {
     "data": {
      "text/plain": [
       "[<matplotlib.lines.Line2D at 0x117a9b588>]"
      ]
     },
     "execution_count": 41,
     "metadata": {},
     "output_type": "execute_result"
    },
    {
     "data": {
      "image/png": "[encoded data removed]",
      "text/plain": [
       "<matplotlib.figure.Figure at 0x11776d0f0>"
      ]
     },
     "metadata": {},
     "output_type": "display_data"
    }
   ],
   "source": [
    "# Plot the original data\n",
    "plt.scatter(X[:, 0], X[:, 1], c=colormap[D[:]], s=40)\n",
    " \n",
    "# Output the values\n",
    "print(\"Coefficient 0 \" + str(net.coef_[0,0]))\n",
    "print(\"Coefficient 1 \" + str(net.coef_[0,1]))\n",
    "print(\"Bias \" + str(net.intercept_))\n",
    " \n",
    "# Calc the hyperplane (decision boundary)\n",
    "ymin, ymax = plt.ylim()\n",
    "w = net.coef_[0]\n",
    "a = -w[0] / w[1]\n",
    "b = - (net.intercept_[0]) / w[1]\n",
    "xs = np.linspace(ymin, ymax)\n",
    "ys = a * xs - (net.intercept_[0]) / w[1]\n",
    " \n",
    "# Plot the line\n",
    "plt.plot(xs,ys, 'k-')"
   ]
  },
  {
   "cell_type": "code",
   "execution_count": 42,
   "metadata": {
    "collapsed": false
   },
   "outputs": [],
   "source": [
    "\n",
    "# Generate datasets. We choose the size big enough to see the scalability\n",
    "# of the algorithms, but not too big to avoid too long running times\n",
    "n_samples = 1500\n",
    "moons, labels = datasets.make_moons(n_samples=n_samples, noise=0.01)\n",
    "# make lineary separable moons\n",
    "separable_moons = moons.copy()\n",
    "separable_moons[labels == 0, 1] += 1"
   ]
  },
  {
   "cell_type": "code",
   "execution_count": 43,
   "metadata": {
    "collapsed": false
   },
   "outputs": [
    {
     "data": {
      "text/plain": [
       "array([[ 0.13276762,  0.02055275],\n",
       "       [-0.79435839,  1.5753049 ],\n",
       "       [ 0.9293335 ,  1.34387461],\n",
       "       ..., \n",
       "       [ 0.01014977,  0.36981108],\n",
       "       [-0.47840823,  1.87669224],\n",
       "       [-0.62470879,  1.78230225]])"
      ]
     },
     "execution_count": 43,
     "metadata": {},
     "output_type": "execute_result"
    }
   ],
   "source": [
    "separable_moons"
   ]
  },
  {
   "cell_type": "code",
   "execution_count": 44,
   "metadata": {
    "collapsed": false
   },
   "outputs": [
    {
     "data": {
      "text/plain": [
       "[<matplotlib.lines.Line2D at 0x116fa7d68>]"
      ]
     },
     "execution_count": 44,
     "metadata": {},
     "output_type": "execute_result"
    },
    {
     "data": {
      "image/png": "[encoded data removed]",
      "text/plain": [
       "<matplotlib.figure.Figure at 0x116fa7f60>"
      ]
     },
     "metadata": {},
     "output_type": "display_data"
    }
   ],
   "source": [
    "plt.ylim((-1, 2.5))\n",
    "plt.plot(separable_moons[:, 0], separable_moons[:, 1], \"b.\")"
   ]
  },
  {
   "cell_type": "code",
   "execution_count": 45,
   "metadata": {
    "collapsed": false
   },
   "outputs": [
    {
     "name": "stdout",
     "output_type": "stream",
     "text": [
      "Prediction [1 0 0 ..., 1 0 0]\n",
      "Actual     [[ 0.13276762  0.02055275]\n",
      " [-0.79435839  1.5753049 ]\n",
      " [ 0.9293335   1.34387461]\n",
      " ..., \n",
      " [ 0.01014977  0.36981108]\n",
      " [-0.47840823  1.87669224]\n",
      " [-0.62470879  1.78230225]]\n",
      "Accuracy   100.0%\n"
     ]
    }
   ],
   "source": [
    "# Create the model\n",
    "net = perceptron.Perceptron(n_iter=100, verbose=0, random_state=None, fit_intercept=True, eta0=0.002)\n",
    "net.fit(separable_moons,labels)\n",
    "# Print the results\n",
    "print(\"Prediction \" + str(net.predict(separable_moons)))\n",
    "print(\"Actual     \" + str(separable_moons))\n",
    "print(\"Accuracy   \" + str(net.score(separable_moons, labels)*100) + \"%\")"
   ]
  },
  {
   "cell_type": "code",
   "execution_count": 46,
   "metadata": {
    "collapsed": false
   },
   "outputs": [
    {
     "name": "stdout",
     "output_type": "stream",
     "text": [
      "Coefficient 0 0.000336305167934\n",
      "Coefficient 1 -0.00677649006928\n",
      "Bias [ 0.004]\n"
     ]
    },
    {
     "data": {
      "text/plain": [
       "[<matplotlib.lines.Line2D at 0x1174a5320>]"
      ]
     },
     "execution_count": 46,
     "metadata": {},
     "output_type": "execute_result"
    },
    {
     "data": {
      "image/png": "[encoded data removed]",
      "text/plain": [
       "<matplotlib.figure.Figure at 0x106faeeb8>"
      ]
     },
     "metadata": {},
     "output_type": "display_data"
    }
   ],
   "source": [
    "# Plot the original data\n",
    "plt.scatter(separable_moons[:, 0], separable_moons[:, 1], c=colormap[labels[:]], s=40)\n",
    " \n",
    "# Output the values\n",
    "print(\"Coefficient 0 \" + str(net.coef_[0,0]))\n",
    "print(\"Coefficient 1 \" + str(net.coef_[0,1]))\n",
    "print(\"Bias \" + str(net.intercept_))\n",
    " \n",
    "# Calc the hyperplane (decision boundary)\n",
    "ymin, ymax = plt.ylim()\n",
    "w = net.coef_[0]\n",
    "a = -w[0] / w[1]\n",
    "b = - (net.intercept_[0]) / w[1]\n",
    "xs = np.linspace(ymin, ymax)\n",
    "ys = a * xs - (net.intercept_[0]) / w[1]\n",
    " \n",
    "# Plot the line\n",
    "plt.plot(xs,ys, 'k-')"
   ]
  },
  {
   "cell_type": "code",
   "execution_count": 47,
   "metadata": {
    "collapsed": false
   },
   "outputs": [
    {
     "name": "stdout",
     "output_type": "stream",
     "text": [
      "Prediction [0 0 0 ..., 0 0 0]\n",
      "Actual     [[ 0.13276762  0.02055275]\n",
      " [-0.79435839  0.5753049 ]\n",
      " [ 0.9293335   0.34387461]\n",
      " ..., \n",
      " [ 0.01014977  0.36981108]\n",
      " [-0.47840823  0.87669224]\n",
      " [-0.62470879  0.78230225]]\n",
      "Accuracy   78.9333333333%\n"
     ]
    }
   ],
   "source": [
    "# Create the model\n",
    "net = perceptron.Perceptron(n_iter=100, verbose=0, random_state=None, fit_intercept=True, eta0=0.002)\n",
    "net.fit(moons,labels)\n",
    "# Print the results\n",
    "print(\"Prediction \" + str(net.predict(moons)))\n",
    "print(\"Actual     \" + str(moons))\n",
    "print(\"Accuracy   \" + str(net.score(moons, labels)*100) + \"%\")"
   ]
  },
  {
   "cell_type": "code",
   "execution_count": 48,
   "metadata": {
    "collapsed": false
   },
   "outputs": [
    {
     "name": "stdout",
     "output_type": "stream",
     "text": [
      "Coefficient 0 -0.000684474624013\n",
      "Coefficient 1 -0.00876658218223\n",
      "Bias [ 0.]\n"
     ]
    },
    {
     "data": {
      "text/plain": [
       "[<matplotlib.lines.Line2D at 0x11674bd30>]"
      ]
     },
     "execution_count": 48,
     "metadata": {},
     "output_type": "execute_result"
    },
    {
     "data": {
      "image/png": "[encoded data removed]",
      "text/plain": [
       "<matplotlib.figure.Figure at 0x1168a9668>"
      ]
     },
     "metadata": {},
     "output_type": "display_data"
    }
   ],
   "source": [
    "# Plot the original data\n",
    "plt.scatter(moons[:, 0], moons[:, 1], c=colormap[labels[:]], s=40)\n",
    " \n",
    "# Output the values\n",
    "print(\"Coefficient 0 \" + str(net.coef_[0,0]))\n",
    "print(\"Coefficient 1 \" + str(net.coef_[0,1]))\n",
    "print(\"Bias \" + str(net.intercept_))\n",
    " \n",
    "# Calc the hyperplane (decision boundary)\n",
    "ymin, ymax = plt.ylim()\n",
    "w = net.coef_[0]\n",
    "a = -w[0] / w[1]\n",
    "b = - (net.intercept_[0]) / w[1]\n",
    "xs = np.linspace(ymin, ymax)\n",
    "ys = a * xs - (net.intercept_[0]) / w[1]\n",
    " \n",
    "# Plot the line\n",
    "plt.plot(xs,ys, 'k-')"
   ]
  },
  {
   "cell_type": "markdown",
   "metadata": {
    "collapsed": true
   },
   "source": [
    "# Bayes Classifier"
   ]
  },
  {
   "cell_type": "markdown",
   "metadata": {},
   "source": [
    "Below example is taken from PRML 1.5 Decision Theory, but  I changed some notations..."
   ]
  },
  {
   "cell_type": "markdown",
   "metadata": {},
   "source": [
    "* $\\mathbf{x}$: X-ray image of a patient\n",
    "* If $\\mathbf{x} \\in \\mathscr{H}_1$ then the patient has cancer, otherwise ($\\mathbf{x} \\in \\mathscr{H}_2$) does not have cancer.\n",
    "* Suppose our classifier put $\\mathbf{x}$ into class $\\mathscr{C_1}$, that means the classifier consider the patient has cancer.($\\mathscr{C_2}$ indicates the absence of cancer)."
   ]
  },
  {
   "cell_type": "markdown",
   "metadata": {},
   "source": [
    "The probability of misclassification is \n",
    "$$\n",
    "p(\\mathrm{mistake}) = p(\\mathbf{x}\\in\\mathscr{H}_1, \\mathscr{C}_2) + p(\\mathbf{x}\\in\\mathscr{H}_2, \\mathscr{C}_1) \\\\\n",
    "= \\int_{\\mathscr{H}_1} p(\\mathbf{x}, \\mathscr{C}_2) d \\mathbf{x} + \\int_{\\mathscr{H}_2} p(\\mathbf{x}, \\mathscr{C}_1) d \\mathbf{x} \\\\\n",
    "= \\int_{\\mathscr{H}_1} p(\\mathbf{x}| \\mathscr{C}_2)p(\\mathscr{C}_2) d \\mathbf{x} + \\int_{\\mathscr{H}_2} p(\\mathbf{x}| \\mathscr{C}_1)p(\\mathscr{C}_1) d \\mathbf{x}\n",
    "$$"
   ]
  },
  {
   "cell_type": "markdown",
   "metadata": {},
   "source": [
    "Likewise, the probability of correct classification is \n",
    "$$\n",
    "p(\\mathrm{correct}) = p(\\mathbf{x}\\in\\mathscr{H}_1, \\mathscr{C}_1) + p(\\mathbf{x}\\in\\mathscr{H}_2, \\mathscr{C}_2) \\\\\n",
    "= \\int_{\\mathscr{H}_1} p(\\mathbf{x}, \\mathscr{C}_1) d \\mathbf{x} + \\int_{\\mathscr{H}_2} p(\\mathbf{x}, \\mathscr{C}_2) d \\mathbf{x} \\\\\n",
    "= \\int_{\\mathscr{H}_1} p(\\mathbf{x}| \\mathscr{C}_1)p(\\mathscr{C}_1) d \\mathbf{x} + \\int_{\\mathscr{H}_2} p(\\mathbf{x}| \\mathscr{C}_2)p(\\mathscr{C}_2) d \\mathbf{x}\n",
    "$$"
   ]
  },
  {
   "cell_type": "markdown",
   "metadata": {},
   "source": [
    "Let $c_{ij}$ is a cost that the classifier assign $\\mathbf{x} \\in \\mathscr{H}_j$ into class $\\mathscr{C}_i$, we have the average **risk function $\\mathscr{R}$** as follows:"
   ]
  },
  {
   "cell_type": "markdown",
   "metadata": {},
   "source": [
    "$$\n",
    "  \\mathscr{R} = c_{11} \\int_{\\mathscr{H_1}}p_\\mathbf{x}(\\mathbf{x}|\\mathscr{C}_1)p(\\mathscr{C}_1)d\\mathbf{x} \n",
    "  + c_{22} \\int_{\\mathscr{H_2}}p_\\mathbf{x}(\\mathbf{x}|\\mathscr{C}_2)p(\\mathscr{C}_2)d\\mathbf{x} \\\\\n",
    "  + c_{21} \\int_{\\mathscr{H_2}}p_\\mathbf{x}(\\mathbf{x}|\\mathscr{C}_1)p(\\mathscr{C}_1)d\\mathbf{x}\n",
    "  + c_{12} \\int_{\\mathscr{H_1}}p_\\mathbf{x}(\\mathbf{x}|\\mathscr{C}_2)p(\\mathscr{C}_2)d\\mathbf{x}\n",
    "$$"
   ]
  },
  {
   "cell_type": "markdown",
   "metadata": {},
   "source": [
    "The costs $c_{ij}$ can be viewed as the $i,j$ element of a loss matrix such as the one shown in below (the figure retrieved from PRML p41)"
   ]
  },
  {
   "cell_type": "markdown",
   "metadata": {},
   "source": [
    "<img  src=\"Pattern-Recognition-and-Machine-Learning-Christophe-M-Bishop_pdf（60_749ページ）.png\"/>"
   ]
  },
  {
   "cell_type": "markdown",
   "metadata": {},
   "source": [
    "In the textbook, $p(\\mathscr{C}_i) = p_i$"
   ]
  },
  {
   "cell_type": "markdown",
   "metadata": {},
   "source": [
    "$$\n",
    "  \\mathscr{R} = c_{11}p_1 \\int_{\\mathscr{H_1}}p_\\mathbf{x}(\\mathbf{x}|\\mathscr{C}_1)d\\mathbf{x} \n",
    "  + c_{22}p_2 \\int_{\\mathscr{H_2}}p_\\mathbf{x}(\\mathbf{x}|\\mathscr{C}_2)d\\mathbf{x} \\\\\n",
    "  + c_{21}p_1 \\int_{\\mathscr{H_2}}p_\\mathbf{x}(\\mathbf{x}|\\mathscr{C}_1)d\\mathbf{x}\n",
    "  + c_{12}p_2 \\int_{\\mathscr{H_1}}p_\\mathbf{x}(\\mathbf{x}|\\mathscr{C}_2)d\\mathbf{x}\n",
    "$$"
   ]
  },
  {
   "cell_type": "markdown",
   "metadata": {},
   "source": [
    "But I don't use this notation anymore..."
   ]
  },
  {
   "cell_type": "markdown",
   "metadata": {},
   "source": [
    "As $\\mathscr{H} = \\mathscr{H}_1 + \\mathscr{H}_2$, we may rewrite the equation in the equivalent form:"
   ]
  },
  {
   "cell_type": "markdown",
   "metadata": {},
   "source": [
    "$$\n",
    "  \\mathscr{R} = c_{11} \\int_{\\mathscr{H_1}}p_\\mathbf{x}(\\mathbf{x}|\\mathscr{C}_1)p(\\mathscr{C}_1)d\\mathbf{x} \n",
    "  + c_{22} \\int_{\\mathscr{H}-\\mathscr{H}_1}p_\\mathbf{x}(\\mathbf{x}|\\mathscr{C}_2)p(\\mathscr{C}_2)d\\mathbf{x} \\\\\n",
    "  + c_{21} \\int_{\\mathscr{H}-\\mathscr{H}_1}p_\\mathbf{x}(\\mathbf{x}|\\mathscr{C}_1)p(\\mathscr{C}_1)d\\mathbf{x}\n",
    "  + c_{12} \\int_{\\mathscr{H_1}}p_\\mathbf{x}(\\mathbf{x}|\\mathscr{C}_2)p(\\mathscr{C}_2)d\\mathbf{x}\n",
    "$$"
   ]
  },
  {
   "cell_type": "markdown",
   "metadata": {},
   "source": [
    "As $\\int_{\\mathscr{H}}p_\\mathbf{x}(\\mathbf{x}|\\mathscr{C}_1)d\\mathbf{x}=\\int_{\\mathscr{H}}p_\\mathbf{x}(\\mathbf{x}|\\mathscr{C}_2)d\\mathbf{x} = 1$, the above equation reduced to"
   ]
  },
  {
   "cell_type": "markdown",
   "metadata": {},
   "source": [
    "$$\n",
    "  \\mathscr{R} = c_{21}p(\\mathscr{C}_1) + c_{22}p(\\mathscr{C}_2)  \\\\\n",
    "  + \\int_{\\mathscr{H_1}}[\n",
    "  (c_{12} - c_{22}) p_{\\mathbf{x}}(\\mathbf{x}|\\mathscr{C}_2)p(\\mathscr{C}_2)\n",
    "  -   (c_{21} - c_{11}) p_{\\mathbf{x}}(\\mathbf{x}|\\mathscr{C}_1)p(\\mathscr{C}_1)\n",
    "  ]d\\mathbf{x} \n",
    "$$"
   ]
  },
  {
   "cell_type": "markdown",
   "metadata": {},
   "source": [
    "In the condition \n",
    "$$\n",
    "(c_{21} - c_{11})p_\\mathbf{x}(\\mathbf{x}|\\mathscr{C}_1)p(\\mathscr{C}_1) > \n",
    "(c_{12} - c_{22})p_\\mathbf{x}(\\mathbf{x}|\\mathscr{C}_2)p(\\mathscr{C}_2)\n",
    "$$\n",
    "or equivalently,\n",
    "$$\n",
    "(c_{21} - c_{11})p_\\mathbf{x}(\\mathscr{C}_1|\\mathbf{x}) > \n",
    "(c_{12} - c_{22})p_\\mathbf{x}(\\mathscr{C}_2|\\mathbf{x})\n",
    "$$\n",
    "\n",
    "\n",
    "holds, assign the observation vector $\\mathbf{x}$ to subspace $\\mathscr{H}_1$ (i.e. class $\\mathscr{}$)"
   ]
  },
  {
   "cell_type": "markdown",
   "metadata": {},
   "source": [
    "To simplify matters, define\n",
    "$$\n",
    "\\Lambda(\\mathbf{x}) = \\frac{p_{\\mathbf{x}}(\\mathbf{x}|\\mathscr{C}_1)}{p_{\\mathbf{x}}(\\mathbf{x}|\\mathscr{C}_2)}\n",
    "$$\n",
    "and\n",
    "$$\n",
    "\\xi  = \\frac{p(\\mathscr{C}_2)(c_{12}-c_{22})}{p(\\mathscr{C}_1)(c_{21}-c_{11})}\n",
    "$$"
   ]
  },
  {
   "cell_type": "markdown",
   "metadata": {},
   "source": [
    "# Bayes Classifier for a Gaussian Distribution"
   ]
  },
  {
   "cell_type": "markdown",
   "metadata": {},
   "source": [
    "Suppose the data satisfy the following statements"
   ]
  },
  {
   "cell_type": "code",
   "execution_count": 25,
   "metadata": {
    "collapsed": false
   },
   "outputs": [
    {
     "data": {
      "image/png": "[encoded data removed]",
      "text/plain": [
       "<matplotlib.figure.Figure at 0x1166010b8>"
      ]
     },
     "metadata": {},
     "output_type": "display_data"
    },
    {
     "data": {
      "text/plain": [
       "<matplotlib.collections.PathCollection at 0x116913eb8>"
      ]
     },
     "execution_count": 25,
     "metadata": {},
     "output_type": "execute_result"
    },
    {
     "data": {
      "image/png": "[encoded data removed]",
      "text/plain": [
       "<matplotlib.figure.Figure at 0x116780390>"
      ]
     },
     "metadata": {},
     "output_type": "display_data"
    }
   ],
   "source": [
    "mean = [0, 0]\n",
    "cov = [[1, 0], [0, 1]]\n",
    "x, y = np.random.multivariate_normal(mean, cov, 5000).T\n",
    "plt.xlabel(\"x\");plt.ylabel(\"y\");plt.scatter(x, y)\n",
    "plt.show()\n",
    "\n",
    "mean = [0, 0]\n",
    "cov = [[1, 1], [1, 2]]\n",
    "x, y = np.random.multivariate_normal(mean, cov, 5000).T\n",
    "plt.xlabel(\"x\");plt.ylabel(\"y\");plt.scatter(x, y)"
   ]
  },
  {
   "cell_type": "markdown",
   "metadata": {},
   "source": [
    "<img  src=\"Haykin09_pdf（89_938ページ）.png\"/>"
   ]
  },
  {
   "cell_type": "markdown",
   "metadata": {},
   "source": [
    "Then we can express the conditional probability density function as the multivariate Gaussian distribution"
   ]
  },
  {
   "cell_type": "markdown",
   "metadata": {},
   "source": [
    "<img  src=\"Haykin09_pdf（89_938ページ）.png\"/>"
   ]
  },
  {
   "cell_type": "markdown",
   "metadata": {},
   "source": [
    "Add more assumptions:\n",
    "* $p(\\mathscr{C}_1) = p(\\mathscr{C}) = 1/2$ \n",
    "* $c_{21}=c_{12}\\ \\text{and}\\ c_{11}=c_{22}=0\\quad (\\text{no cost for correct decision})$"
   ]
  },
  {
   "cell_type": "markdown",
   "metadata": {},
   "source": [
    "We get"
   ]
  },
  {
   "cell_type": "markdown",
   "metadata": {},
   "source": [
    "<img  src=\"Haykin09_pdf（90_938ページ）.png\"/>"
   ]
  },
  {
   "cell_type": "markdown",
   "metadata": {},
   "source": [
    "and"
   ]
  },
  {
   "cell_type": "markdown",
   "metadata": {},
   "source": [
    "<img  src=\"Haykin09_pdf（90_938ページ）.png\"/>"
   ]
  },
  {
   "cell_type": "markdown",
   "metadata": {},
   "source": [
    "If $\\mathrm{y}$ is positive, assign the observation $\\mathbf{x}$ to class $\\mathscr{C}_1$ otherwise $\\mathscr{C}_2$. It's analogous to our two-class perceptron."
   ]
  },
  {
   "cell_type": "markdown",
   "metadata": {},
   "source": [
    "# Batch perceptron algorithm"
   ]
  },
  {
   "cell_type": "markdown",
   "metadata": {
    "collapsed": true
   },
   "source": [
    "The perceptorn cost function is\n",
    "$$\n",
    "J(\\mathbf{w}) = \\sum_{\\mathbf{x(n)} \\in \\mathscr{R}} (-\\mathbf{w}^T \\mathbf{x}(n)d(n))\n",
    "$$\n",
    "$\\mathscr{R}$ is the set of misclassified samples.\n",
    "Learning algorithm of the batch perceptorn is"
   ]
  },
  {
   "cell_type": "markdown",
   "metadata": {},
   "source": [
    "<img  src=\"Haykin09_pdf（96_938ページ）.png\"/>"
   ]
  },
  {
   "cell_type": "markdown",
   "metadata": {},
   "source": [
    "# Generative model vs discriminative model\n",
    "* Directory model $p(\\mathscr{C}_k|\\mathbf{x})$ ⇒ discriminative model\n",
    "* First model $p(\\mathbf{x}|\\mathscr{C}_k)$ and $p(\\mathscr{C}_k)$. Compute $$\n",
    "p(\\mathscr{C}_k|\\mathbf{x}) = \\frac{p(\\mathbf{x}|\\mathscr{C}_k)p(\\mathscr{C}_k)}{p(\\mathbf{x})}\n",
    "$$ ⇒ generative model\n",
    "\n",
    "note that \n",
    "$$\n",
    "p(\\mathbf{x}) = \\sum_{k} p(\\mathbf{x}|\\mathscr{C}_k)p(\\mathscr{C}_k)\n",
    "$$"
   ]
  },
  {
   "cell_type": "markdown",
   "metadata": {},
   "source": [
    "todo:英訳と整理理論の理解"
   ]
  },
  {
   "cell_type": "markdown",
   "metadata": {},
   "source": [
    "# Naive Bayes"
   ]
  },
  {
   "cell_type": "code",
   "execution_count": 16,
   "metadata": {
    "collapsed": false
   },
   "outputs": [],
   "source": [
    "import math\n",
    "import sys\n",
    "from collections import defaultdict\n",
    "\n",
    "class NaiveBayes:\n",
    "    \"\"\"Multinomial Naive Bayes\"\"\"\n",
    "    def __init__(self):\n",
    "        self.categories = set()     # カテゴリの集合\n",
    "        self.vocabularies = set()   # ボキャブラリの集合\n",
    "        self.wordcount = {}         # wordcount[cat][word] カテゴリでの単語の出現回数\n",
    "        self.catcount = {}          # catcount[cat] カテゴリの出現回数\n",
    "        self.denominator = {}       # denominator[cat] P(word|cat)の分母の値\n",
    "    \n",
    "    def fit(self, data):\n",
    "        \"\"\"ナイーブベイズ分類器の訓練\"\"\"\n",
    "        # 文書集合からカテゴリを抽出して辞書を初期化\n",
    "        for d in data:\n",
    "            cat = d[0]\n",
    "            self.categories.add(cat)\n",
    "        for cat in self.categories:\n",
    "            self.wordcount[cat] = defaultdict(int)\n",
    "            self.catcount[cat] = 0\n",
    "        # 文書集合からカテゴリと単語をカウント\n",
    "        for d in data:\n",
    "            cat, doc = d[0], d[1:]\n",
    "            self.catcount[cat] += 1\n",
    "            for word in doc:\n",
    "                self.vocabularies.add(word)\n",
    "                self.wordcount[cat][word] += 1\n",
    "        # 単語の条件付き確率の分母の値をあらかじめ一括計算しておく（高速化のため）\n",
    "        for cat in self.categories:\n",
    "            self.denominator[cat] = sum(self.wordcount[cat].values()) + len(self.vocabularies)\n",
    "    \n",
    "    def predict(self, doc):\n",
    "        \"\"\"事後確率の対数 log(P(cat|doc)) がもっとも大きなカテゴリを返す\"\"\"\n",
    "        best = None\n",
    "        max = np.iinfo(np.int).max\n",
    "        for cat in self.catcount.keys():\n",
    "            p = self.score(doc, cat)\n",
    "            if p > max:\n",
    "                max = p\n",
    "                best = cat\n",
    "        return best\n",
    "    \n",
    "    def wordProb(self, word, cat):\n",
    "        \"\"\"単語の条件付き確率 P(word|cat) を求める\"\"\"\n",
    "        # ラプラススムージングを適用\n",
    "        # wordcount[cat]はdefaultdict(int)なのでカテゴリに存在しなかった単語はデフォルトの0を返す\n",
    "        # 分母はtrain()の最後で一括計算済み\n",
    "        return float(self.wordcount[cat][word] + 1) / float(self.denominator[cat])\n",
    "    \n",
    "    def score(self, doc, cat):\n",
    "        \"\"\"文書が与えられたときのカテゴリの事後確率の対数 log(P(cat|doc)) を求める\"\"\"\n",
    "        total = sum(self.catcount.values())  # 総文書数\n",
    "        score = math.log(float(self.catcount[cat]) / total)  # log P(cat)\n",
    "        for word in doc:\n",
    "            # logをとるとかけ算は足し算になる\n",
    "            score += math.log(self.wordProb(word, cat))  # log P(word|cat)\n",
    "        return score\n",
    "    \n",
    "    def __str__(self):\n",
    "        total = sum(self.catcount.values())  # 総文書数\n",
    "        return \"documents: %d, vocabularies: %d, categories: %d\" % (total, len(self.vocabularies), len(self.categories))\n",
    "\n"
   ]
  },
  {
   "cell_type": "code",
   "execution_count": 15,
   "metadata": {
    "collapsed": false
   },
   "outputs": [
    {
     "name": "stdout",
     "output_type": "stream",
     "text": [
      "documents: 4, vocabularies: 6, categories: 2\n",
      "P(Chinese|yes) =  0.42857142857142855\n",
      "P(Tokyo|yes) =  0.07142857142857142\n",
      "P(Japan|yes) =  0.07142857142857142\n",
      "P(Chinese|no) =  0.2222222222222222\n",
      "P(Tokyo|no) =  0.2222222222222222\n",
      "P(Japan|no) =  0.2222222222222222\n",
      "log P(yes|test) = -8.10769031284391\n",
      "log P(no|test) = -8.906681345001262\n",
      "None\n"
     ]
    }
   ],
   "source": [
    "# Introduction to Information Retrieval 13.2の例題\n",
    "data = [[\"yes\", \"Chinese\", \"Beijing\", \"Chinese\"],\n",
    "        [\"yes\", \"Chinese\", \"Chinese\", \"Shanghai\"],\n",
    "        [\"yes\", \"Chinese\", \"Macao\"],\n",
    "        [\"no\", \"Tokyo\", \"Japan\", \"Chinese\"]]\n",
    "\n",
    "# ナイーブベイズ分類器を訓練\n",
    "nb = NaiveBayes()\n",
    "nb.train(data)\n",
    "print(nb)\n",
    "print(\"P(Chinese|yes) = \", nb.wordProb(\"Chinese\", \"yes\"))\n",
    "print(\"P(Tokyo|yes) = \", nb.wordProb(\"Tokyo\", \"yes\"))\n",
    "print(\"P(Japan|yes) = \", nb.wordProb(\"Japan\", \"yes\"))\n",
    "print(\"P(Chinese|no) = \", nb.wordProb(\"Chinese\", \"no\"))\n",
    "print(\"P(Tokyo|no) = \", nb.wordProb(\"Tokyo\", \"no\"))\n",
    "print(\"P(Japan|no) = \", nb.wordProb(\"Japan\", \"no\"))\n",
    "\n",
    "# テストデータのカテゴリを予測\n",
    "test = [\"Chinese\", \"Chinese\", \"Chinese\", \"Tokyo\", \"Japan\"]\n",
    "print(\"log P(yes|test) =\", nb.score(test, \"yes\"))\n",
    "print(\"log P(no|test) =\", nb.score(test, \"no\"))\n",
    "print(nb.classify(test))"
   ]
  },
  {
   "cell_type": "code",
   "execution_count": null,
   "metadata": {
    "collapsed": true
   },
   "outputs": [],
   "source": []
  }
 ],
 "metadata": {
  "kernelspec": {
   "display_name": "Python 3",
   "language": "python",
   "name": "python3"
  },
  "language_info": {
   "codemirror_mode": {
    "name": "ipython",
    "version": 3
   },
   "file_extension": ".py",
   "mimetype": "text/x-python",
   "name": "python",
   "nbconvert_exporter": "python",
   "pygments_lexer": "ipython3",
   "version": "3.5.1"
  }
 },
 "nbformat": 4,
 "nbformat_minor": 0
}
