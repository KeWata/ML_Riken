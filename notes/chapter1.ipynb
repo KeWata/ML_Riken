{
 "cells": [
  {
   "cell_type": "markdown",
   "metadata": {},
   "source": [
    "Author: Keita Watanabe"
   ]
  },
  {
   "cell_type": "code",
   "execution_count": 3,
   "metadata": {
    "collapsed": true
   },
   "outputs": [],
   "source": [
    "import numpy as np\n",
    "import matplotlib.pyplot as plt\n",
    "import matplotlib as mpl\n",
    "from sklearn import cluster, datasets\n",
    "from sklearn.neighbors import kneighbors_graph\n",
    "from sklearn.preprocessing import StandardScaler\n",
    "%matplotlib inline\n",
    "mpl.rcParams[\"font.size\"] = 16"
   ]
  },
  {
   "cell_type": "markdown",
   "metadata": {},
   "source": [
    "# Chapter1: Rosenblatt's Perceptron"
   ]
  },
  {
   "cell_type": "markdown",
   "metadata": {},
   "source": [
    "Figures without citation are taken from Haykin's book"
   ]
  },
  {
   "cell_type": "markdown",
   "metadata": {},
   "source": [
    "The perceptron is a single layer neural network."
   ]
  },
  {
   "cell_type": "markdown",
   "metadata": {},
   "source": [
    "![Signal-flow](./figs/1_1.png)"
   ]
  },
  {
   "cell_type": "markdown",
   "metadata": {
    "collapsed": true
   },
   "source": [
    "* $w_1, w_2, \\dots, w_m$: synaptic weights\n",
    "* $x_1, x_2, \\dots, x_m$: inputs applied to the perceptron\n",
    "* $b$: bias\n",
    "$$\n",
    "v = \\sum_{i=1}^m w_i x_i + b\n",
    "$$"
   ]
  },
  {
   "cell_type": "markdown",
   "metadata": {},
   "source": [
    "![hyperplane](figs/1_2.png)"
   ]
  },
  {
   "cell_type": "markdown",
   "metadata": {},
   "source": [
    "* $\\mathbf{w} = [b, w_1(n), w_2(n), \\dots, w_m(n)]^T$: synaptic weights + bias\n",
    "* $\\mathbf{x} = [+1, x_1(n), x_2(n), \\dots, x_m(n)]^T$: inputs applied to the perceptron\n",
    "* $b$: bias\n",
    "$$\n",
    "v(n) = \\sum_{i=0}^m w_i(n) x_i(n) = \\mathbf{w}^T(n) \\mathbf{x}(n)\n",
    "$$\n",
    "Note that $w_0(n) = b$ and $x_0(n) = +1$."
   ]
  },
  {
   "cell_type": "markdown",
   "metadata": {},
   "source": [
    "## Objection\n",
    "$\\mathscr{C}_1, \\mathscr{C}_2$\n",
    "* $\\mathbf{w}^T\\mathbf{x} > 0$ for every input vector $\\mathbf{x}$ belonging to class $\\mathscr{C}_1$\n",
    "* $\\mathbf{w}^T\\mathbf{x} \\leq 0$ for every input vector $\\mathbf{x}$ belonging to class $\\mathscr{C}_2$"
   ]
  },
  {
   "cell_type": "markdown",
   "metadata": {},
   "source": [
    "You need to understand the relationship between normal vector (法線ベクトル) and a plane. [For people who forget vector calculus.](http://mathworld.wolfram.com/NormalVector.html)"
   ]
  },
  {
   "cell_type": "markdown",
   "metadata": {},
   "source": [
    "## Learning algorithm\n",
    "## Proof of the perceptron convergence algorithm\n",
    "Mathematical derivation on whiteboard!"
   ]
  },
  {
   "cell_type": "markdown",
   "metadata": {},
   "source": [
    "![Perceptron convergence Algorithm](figs/tab1_1.png)"
   ]
  },
  {
   "cell_type": "markdown",
   "metadata": {},
   "source": [
    "## Illustration of learning algorithm"
   ]
  },
  {
   "cell_type": "markdown",
   "metadata": {},
   "source": [
    "Let $\\mathbf{w}(n)$ and $\\mathbf{x}(n)$ as follows"
   ]
  },
  {
   "cell_type": "code",
   "execution_count": 8,
   "metadata": {
    "collapsed": false
   },
   "outputs": [],
   "source": [
    "w = np.zeros(3).reshape(3, 1)\n",
    "w[0] = 4; w[1] = 3; w[2] = 1\n",
    "x = np.zeros(3).reshape(3, 1)\n",
    "x[0] = 1; x[1] = -3; x[2] = 1"
   ]
  },
  {
   "cell_type": "code",
   "execution_count": 5,
   "metadata": {
    "collapsed": false
   },
   "outputs": [
    {
     "name": "stdout",
     "output_type": "stream",
     "text": [
      "[[ 1.]\n",
      " [-3.]\n",
      " [ 1.]] \n",
      " [[ 4.]\n",
      " [ 3.]\n",
      " [ 1.]] \n",
      " [[ 5.]\n",
      " [ 0.]\n",
      " [ 2.]]\n"
     ]
    }
   ],
   "source": [
    "print(x, \"\\n\", w, \"\\n\", x+w)"
   ]
  },
  {
   "cell_type": "markdown",
   "metadata": {},
   "source": [
    "Each vector and decision boundary can be illustrated like this"
   ]
  },
  {
   "cell_type": "code",
   "execution_count": 21,
   "metadata": {
    "collapsed": false,
    "scrolled": false
   },
   "outputs": [
    {
     "data": {
      "text/plain": [
       "[<matplotlib.lines.Line2D at 0x116243d68>]"
      ]
     },
     "execution_count": 21,
     "metadata": {},
     "output_type": "execute_result"
    },
    {
     "data": {
      "image/png": "[encoded data removed]",
      "text/plain": [
       "<matplotlib.figure.Figure at 0x114eef4a8>"
      ]
     },
     "metadata": {},
     "output_type": "display_data"
    }
   ],
   "source": [
    "lim = 10\n",
    "xs = np.linspace(-lim, lim, 100)\n",
    "a = -w[1] / w[2]\n",
    "b = -w[0] / w[2]\n",
    "ys = a * xs + b\n",
    "ax = plt.axes()\n",
    "ax.set_xlim((-lim, lim))\n",
    "ax.set_ylim((-lim, lim))\n",
    "ax.grid(True)\n",
    "ax.arrow(0, 0, w[1][0], w[2][0], head_width=0.5, head_length=1, fc='b', ec='b')\n",
    "ax.annotate(\"$\\mathbf{w}(n)$\", xy=(w[1][0]+1, w[2][0]+0.5), color=\"b\")\n",
    "ax.annotate(\"$\\mathscr{C}_1$\", xy=(+4, +4), color=\"b\", fontsize=32)\n",
    "ax.annotate(\"$\\mathscr{C}_2$\", xy=(-5, -5), color=\"b\", fontsize=32)\n",
    "ax.arrow(0, 0, x[1][0], x[2][0], head_width=0.5, head_length=1, fc='k', ec='k')\n",
    "ax.annotate(\"$\\mathbf{x}(n)$\", xy=(x[1][0]+4, x[2][0]-3.5), color=\"k\")\n",
    "#ax.legend()\n",
    "ax.plot(xs, ys, color=\"b\")"
   ]
  },
  {
   "cell_type": "markdown",
   "metadata": {},
   "source": [
    "Let's assume $\\mathbf{x} \\in \\mathscr{C}_2$.\n",
    "According to the learning algorithm $\\mathbf{w}(n+1)$ is"
   ]
  },
  {
   "cell_type": "code",
   "execution_count": 18,
   "metadata": {
    "collapsed": true
   },
   "outputs": [],
   "source": [
    "wnew = w + x"
   ]
  },
  {
   "cell_type": "code",
   "execution_count": 25,
   "metadata": {
    "collapsed": false
   },
   "outputs": [
    {
     "data": {
      "text/plain": [
       "<matplotlib.text.Text at 0x11621c550>"
      ]
     },
     "execution_count": 25,
     "metadata": {},
     "output_type": "execute_result"
    },
    {
     "data": {
      "image/png": "[encoded data removed]",
      "text/plain": [
       "<matplotlib.figure.Figure at 0x114d2d390>"
      ]
     },
     "metadata": {},
     "output_type": "display_data"
    }
   ],
   "source": [
    "lim = 10\n",
    "ax = plt.axes()\n",
    "xs = np.linspace(-lim, lim, 100)\n",
    "a = -w[1] / w[2]\n",
    "b = -w[0] / w[2]\n",
    "ys = a * xs + b\n",
    "ax.plot(xs, ys, color=\"b\")\n",
    "a = -wnew[1] / wnew[2]\n",
    "b = -wnew[0] / wnew[2]\n",
    "ys = a * xs + b\n",
    "ax.plot(xs, ys, color=\"r\")\n",
    "ax.set_xlim((-lim, lim))\n",
    "ax.set_ylim((-lim, lim))\n",
    "ax.grid(True)\n",
    "ax.arrow(0, 0, w[1][0], w[2][0], head_width=0.5, head_length=1, fc='b', ec='b')\n",
    "ax.annotate(\"$\\mathbf{w}(n)$\", xy=(w[1][0]+1.5, w[2][0]+0.5), color=\"b\")\n",
    "ax.arrow(0, 0, wnew[1][0], wnew[2][0], head_width=0.5, head_length=1, fc='r', ec='r')\n",
    "ax.annotate(\"$\\mathbf{w}(n+1)$\", xy=(wnew[1][0]+1, wnew[2][0]+0.5), color=\"r\")\n",
    "ax.annotate(\"$\\mathscr{C}_1(n)$\", xy=(+4, +4), color=\"b\", fontsize=16)\n",
    "ax.annotate(\"$\\mathscr{C}_2(n)$\", xy=(-5, -5), color=\"b\", fontsize=16)\n",
    "ax.annotate(\"$\\mathscr{C}_1(n+1)$\", xy=(+7, +7), color=\"r\", fontsize=16)\n",
    "ax.annotate(\"$\\mathscr{C}_2(n+1)$\", xy=(-7, -7), color=\"r\", fontsize=16)\n",
    "\n",
    "ax.arrow(0, 0, x[1][0], x[2][0], head_width=0.5, head_length=1, fc='k', ec='k')\n",
    "ax.annotate(\"$\\mathbf{x}(n)$\", xy=(x[1][0]+4, x[2][0]-3.5), color=\"k\")\n",
    "ax.set_title(\"$\\mathbf{x}(n)^T\\mathbf{x}(n) > 0 $and $\\mathbf{x}(n) \\in \\mathscr{C}_2$\")\n",
    "#ax.legend()"
   ]
  },
  {
   "cell_type": "markdown",
   "metadata": {},
   "source": [
    "Note that $\\mathbf{x}(n)$ is in $\\mathscr{C}_2$ when we draw decision boundary with $\\mathbf{w}(n+1)$"
   ]
  },
  {
   "cell_type": "markdown",
   "metadata": {},
   "source": [
    "## Inplementation of the above procedures"
   ]
  },
  {
   "cell_type": "markdown",
   "metadata": {},
   "source": [
    "## Perceptron inplementation in scikit-learn"
   ]
  },
  {
   "cell_type": "markdown",
   "metadata": {},
   "source": [
    "Below example is retrieved from [here](http://stamfordresearch.com/scikit-learn-perceptron/) but modified."
   ]
  },
  {
   "cell_type": "code",
   "execution_count": 26,
   "metadata": {
    "collapsed": true
   },
   "outputs": [],
   "source": [
    "import numpy as np\n",
    "import matplotlib.pyplot as plt\n",
    "from sklearn.linear_model import perceptron\n",
    "from itertools import cycle\n",
    "# Needed to show the plots inline\n",
    "%matplotlib inline"
   ]
  },
  {
   "cell_type": "code",
   "execution_count": 27,
   "metadata": {
    "collapsed": true
   },
   "outputs": [],
   "source": [
    "def myperceptron(X, D, max_iter=100):\n",
    "    \"\"\"\n",
    "    input:\n",
    "    X: data. n rows(number of data points) and m+1 columns(features)\n",
    "    D: desired responses(labels). n rows\n",
    "    output:\n",
    "    w: (m+1) rows learned weights of a separatorixs\n",
    "    note that in this function, learning rate $\\mu$ is fixed to 1\n",
    "    \"\"\"\n",
    "    # add a column for bias parameter\n",
    "    X = np.c_[np.ones(X.shape[0]), X]\n",
    "    n, m = X.shape\n",
    "    w = np.zeros((m, 1)) \n",
    "    iter_ = cycle(zip(X, D))\n",
    "    num_iter = 0\n",
    "    for x, d in iter_:\n",
    "        y = np.sign(np.dot(w.T, x))\n",
    "        w += (d - y)*x.reshape((m, 1))\n",
    "        num_iter += 1\n",
    "        if num_iter == max_iter:\n",
    "            break\n",
    "    return w"
   ]
  },
  {
   "cell_type": "code",
   "execution_count": 28,
   "metadata": {
    "collapsed": true
   },
   "outputs": [],
   "source": [
    "X = np.array([\n",
    "[2, 1, 2, 5, 7, 2, 3, 6, 1, 2, 5, 4, 6, 5],\n",
    "[2, 3, 3, 3, 3, 4, 4, 4, 5, 5, 5, 6, 6, 7]\n",
    "]).T\n",
    "# Labels\n",
    "D = np.array([0, 0, 0, 1, 1, 0, 0, 1, 0, 0, 1, 1, 1, 1]).T"
   ]
  },
  {
   "cell_type": "code",
   "execution_count": 29,
   "metadata": {
    "collapsed": false
   },
   "outputs": [
    {
     "data": {
      "text/plain": [
       "<matplotlib.collections.PathCollection at 0x1168b5ba8>"
      ]
     },
     "execution_count": 29,
     "metadata": {},
     "output_type": "execute_result"
    },
    {
     "data": {
      "image/png": "[encoded data removed]",
      "text/plain": [
       "<matplotlib.figure.Figure at 0x1168e5ef0>"
      ]
     },
     "metadata": {},
     "output_type": "display_data"
    }
   ],
   "source": [
    "colormap = np.array(['r', 'k'])\n",
    "plt.scatter(X[:, 0], X[:, 1], c=colormap[D[:]], s=40)"
   ]
  },
  {
   "cell_type": "code",
   "execution_count": 30,
   "metadata": {
    "collapsed": false
   },
   "outputs": [
    {
     "name": "stdout",
     "output_type": "stream",
     "text": [
      "w:\n",
      " [[-29.]\n",
      " [  6.]\n",
      " [  2.]]\n"
     ]
    }
   ],
   "source": [
    "w = myperceptron(X, D, max_iter=100000)\n",
    "print(\"w:\\n\", w)"
   ]
  },
  {
   "cell_type": "markdown",
   "metadata": {},
   "source": [
    "Illustrate the line $y = ax +b$ from the result."
   ]
  },
  {
   "cell_type": "code",
   "execution_count": 31,
   "metadata": {
    "collapsed": false
   },
   "outputs": [],
   "source": [
    "a = -w[1] / w[2]\n",
    "b = -w[0] / w[2]\n",
    "xs = np.linspace(X[:, 0].min()-0.5, X[:, 1].max()+0.5)\n",
    "ys = a * xs + b"
   ]
  },
  {
   "cell_type": "code",
   "execution_count": 32,
   "metadata": {
    "collapsed": false
   },
   "outputs": [
    {
     "data": {
      "text/plain": [
       "[<matplotlib.lines.Line2D at 0x11634c908>]"
      ]
     },
     "execution_count": 32,
     "metadata": {},
     "output_type": "execute_result"
    },
    {
     "data": {
      "image/png": "[encoded data removed]",
      "text/plain": [
       "<matplotlib.figure.Figure at 0x11634cc18>"
      ]
     },
     "metadata": {},
     "output_type": "display_data"
    }
   ],
   "source": [
    "colormap = np.array(['r', 'k'])\n",
    "plt.scatter(X[:, 0], X[:, 1], c=colormap[D[:]], s=40)\n",
    "plt.plot(xs, ys)"
   ]
  },
  {
   "cell_type": "markdown",
   "metadata": {},
   "source": [
    "## Perceptron in sklearn\n",
    "note: learning algorithm in sklearn's perceptron is stochastic gradient descent"
   ]
  },
  {
   "cell_type": "code",
   "execution_count": 33,
   "metadata": {
    "collapsed": false
   },
   "outputs": [
    {
     "name": "stdout",
     "output_type": "stream",
     "text": [
      "Prediction [0 0 0 1 1 0 0 1 0 0 1 1 1 1]\n",
      "Actual     [0 0 0 1 1 0 0 1 0 0 1 1 1 1]\n",
      "Accuracy   100.0%\n"
     ]
    }
   ],
   "source": [
    "# Create the model\n",
    "net = perceptron.Perceptron(n_iter=100, verbose=0, random_state=None, fit_intercept=True, eta0=0.002)\n",
    "net.fit(X,D)\n",
    "# Print the results\n",
    "print(\"Prediction \" + str(net.predict(X)))\n",
    "print(\"Actual     \" + str(D))\n",
    "print(\"Accuracy   \" + str(net.score(X, D)*100) + \"%\")"
   ]
  },
  {
   "cell_type": "code",
   "execution_count": 34,
   "metadata": {
    "collapsed": false
   },
   "outputs": [
    {
     "name": "stdout",
     "output_type": "stream",
     "text": [
      "Coefficient 0 0.034\n",
      "Coefficient 1 -0.014\n",
      "Bias [-0.048]\n"
     ]
    },
    {
     "data": {
      "text/plain": [
       "[<matplotlib.lines.Line2D at 0x11697a8d0>]"
      ]
     },
     "execution_count": 34,
     "metadata": {},
     "output_type": "execute_result"
    },
    {
     "data": {
      "image/png": "[encoded data removed]",
      "text/plain": [
       "<matplotlib.figure.Figure at 0x11644bf28>"
      ]
     },
     "metadata": {},
     "output_type": "display_data"
    }
   ],
   "source": [
    "# Plot the original data\n",
    "plt.scatter(X[:, 0], X[:, 1], c=colormap[D[:]], s=40)\n",
    " \n",
    "# Output the values\n",
    "print(\"Coefficient 0 \" + str(net.coef_[0,0]))\n",
    "print(\"Coefficient 1 \" + str(net.coef_[0,1]))\n",
    "print(\"Bias \" + str(net.intercept_))\n",
    " \n",
    "# Calc the hyperplane (decision boundary)\n",
    "ymin, ymax = plt.ylim()\n",
    "w = net.coef_[0]\n",
    "a = -w[0] / w[1]\n",
    "b = - (net.intercept_[0]) / w[1]\n",
    "xs = np.linspace(ymin, ymax)\n",
    "ys = a * xs - (net.intercept_[0]) / w[1]\n",
    " \n",
    "# Plot the line\n",
    "plt.plot(xs,ys, 'k-')"
   ]
  },
  {
   "cell_type": "markdown",
   "metadata": {},
   "source": [
    "# Double moon datasets: linearly separable"
   ]
  },
  {
   "cell_type": "code",
   "execution_count": 42,
   "metadata": {
    "collapsed": true
   },
   "outputs": [],
   "source": [
    "# Generate datasets. We choose the size big enough to see the scalability\n",
    "# of the algorithms, but not too big to avoid too long running times\n",
    "n_samples = 1500\n",
    "moons, labels = datasets.make_moons(n_samples=n_samples, noise=0.01)\n",
    "# make lineary separable moons\n",
    "separable_moons = moons.copy()\n",
    "separable_moons[labels == 0, 1] += 1"
   ]
  },
  {
   "cell_type": "code",
   "execution_count": 43,
   "metadata": {
    "collapsed": false
   },
   "outputs": [
    {
     "data": {
      "text/plain": [
       "array([[ 0.48336005, -0.37108666],\n",
       "       [ 0.01626948,  0.21017081],\n",
       "       [ 0.7141689 , -0.44264294],\n",
       "       ..., \n",
       "       [ 0.29809425, -0.19753257],\n",
       "       [ 0.98542766,  1.15462164],\n",
       "       [ 1.34883898, -0.44141589]])"
      ]
     },
     "execution_count": 43,
     "metadata": {},
     "output_type": "execute_result"
    }
   ],
   "source": [
    "separable_moons"
   ]
  },
  {
   "cell_type": "code",
   "execution_count": 44,
   "metadata": {
    "collapsed": false
   },
   "outputs": [
    {
     "data": {
      "text/plain": [
       "[<matplotlib.lines.Line2D at 0x116a58240>]"
      ]
     },
     "execution_count": 44,
     "metadata": {},
     "output_type": "execute_result"
    },
    {
     "data": {
      "image/png": "[encoded data removed]",
      "text/plain": [
       "<matplotlib.figure.Figure at 0x116a58ac8>"
      ]
     },
     "metadata": {},
     "output_type": "display_data"
    }
   ],
   "source": [
    "plt.ylim((-1, 2.5))\n",
    "plt.plot(separable_moons[:, 0], separable_moons[:, 1], \"b.\")"
   ]
  },
  {
   "cell_type": "code",
   "execution_count": 45,
   "metadata": {
    "collapsed": false
   },
   "outputs": [
    {
     "name": "stdout",
     "output_type": "stream",
     "text": [
      "Prediction [1 1 1 ..., 1 0 1]\n",
      "Actual     [[ 0.48336005 -0.37108666]\n",
      " [ 0.01626948  0.21017081]\n",
      " [ 0.7141689  -0.44264294]\n",
      " ..., \n",
      " [ 0.29809425 -0.19753257]\n",
      " [ 0.98542766  1.15462164]\n",
      " [ 1.34883898 -0.44141589]]\n",
      "Accuracy   100.0%\n"
     ]
    }
   ],
   "source": [
    "# Create the model\n",
    "net = perceptron.Perceptron(n_iter=100, verbose=0, random_state=None, fit_intercept=True, eta0=0.002)\n",
    "net.fit(separable_moons,labels)\n",
    "# Print the results\n",
    "print(\"Prediction \" + str(net.predict(separable_moons)))\n",
    "print(\"Actual     \" + str(separable_moons))\n",
    "print(\"Accuracy   \" + str(net.score(separable_moons, labels)*100) + \"%\")"
   ]
  },
  {
   "cell_type": "code",
   "execution_count": 46,
   "metadata": {
    "collapsed": false
   },
   "outputs": [
    {
     "name": "stdout",
     "output_type": "stream",
     "text": [
      "Coefficient 0 0.00283610216063\n",
      "Coefficient 1 -0.00706314695129\n",
      "Bias [ 0.004]\n"
     ]
    },
    {
     "data": {
      "text/plain": [
       "[<matplotlib.lines.Line2D at 0x11680ae10>]"
      ]
     },
     "execution_count": 46,
     "metadata": {},
     "output_type": "execute_result"
    },
    {
     "data": {
      "image/png": "[encoded data removed]",
      "text/plain": [
       "<matplotlib.figure.Figure at 0x1168b80b8>"
      ]
     },
     "metadata": {},
     "output_type": "display_data"
    }
   ],
   "source": [
    "# Plot the original data\n",
    "plt.scatter(separable_moons[:, 0], separable_moons[:, 1], c=colormap[labels[:]], s=40)\n",
    " \n",
    "# Output the values\n",
    "print(\"Coefficient 0 \" + str(net.coef_[0,0]))\n",
    "print(\"Coefficient 1 \" + str(net.coef_[0,1]))\n",
    "print(\"Bias \" + str(net.intercept_))\n",
    " \n",
    "# Calc the hyperplane (decision boundary)\n",
    "ymin, ymax = plt.ylim()\n",
    "w = net.coef_[0]\n",
    "a = -w[0] / w[1]\n",
    "b = - (net.intercept_[0]) / w[1]\n",
    "xs = np.linspace(ymin, ymax)\n",
    "ys = a * xs - (net.intercept_[0]) / w[1]\n",
    " \n",
    "# Plot the line\n",
    "plt.plot(xs,ys, 'k-')"
   ]
  },
  {
   "cell_type": "markdown",
   "metadata": {},
   "source": [
    "# Double moon datasets: linearly un-separable"
   ]
  },
  {
   "cell_type": "code",
   "execution_count": 50,
   "metadata": {
    "collapsed": false
   },
   "outputs": [
    {
     "name": "stdout",
     "output_type": "stream",
     "text": [
      "Prediction [1 1 1 ..., 1 1 1]\n",
      "Actual     [[ 0.48336005 -0.37108666]\n",
      " [ 0.01626948  0.21017081]\n",
      " [ 0.7141689  -0.44264294]\n",
      " ..., \n",
      " [ 0.29809425 -0.19753257]\n",
      " [ 0.98542766  0.15462164]\n",
      " [ 1.34883898 -0.44141589]]\n",
      "Accuracy   87.4%\n"
     ]
    }
   ],
   "source": [
    "# Create the model\n",
    "net = perceptron.Perceptron(n_iter=100, verbose=0, random_state=None, fit_intercept=True, eta0=0.002)\n",
    "net.fit(moons,labels)\n",
    "# Print the results\n",
    "print(\"Prediction \" + str(net.predict(moons)))\n",
    "print(\"Actual     \" + str(moons))\n",
    "print(\"Accuracy   \" + str(net.score(moons, labels)*100) + \"%\")"
   ]
  },
  {
   "cell_type": "code",
   "execution_count": 51,
   "metadata": {
    "collapsed": false
   },
   "outputs": [
    {
     "name": "stdout",
     "output_type": "stream",
     "text": [
      "Coefficient 0 0.000981604222016\n",
      "Coefficient 1 -0.00750604971557\n",
      "Bias [ 0.002]\n"
     ]
    },
    {
     "data": {
      "text/plain": [
       "[<matplotlib.lines.Line2D at 0x11793bb38>]"
      ]
     },
     "execution_count": 51,
     "metadata": {},
     "output_type": "execute_result"
    },
    {
     "data": {
      "image/png": "[encoded data removed]",
      "text/plain": [
       "<matplotlib.figure.Figure at 0x116efd208>"
      ]
     },
     "metadata": {},
     "output_type": "display_data"
    }
   ],
   "source": [
    "# Plot the original data\n",
    "plt.scatter(moons[:, 0], moons[:, 1], c=colormap[labels[:]], s=40)\n",
    " \n",
    "# Output the values\n",
    "print(\"Coefficient 0 \" + str(net.coef_[0,0]))\n",
    "print(\"Coefficient 1 \" + str(net.coef_[0,1]))\n",
    "print(\"Bias \" + str(net.intercept_))\n",
    " \n",
    "# Calc the hyperplane (decision boundary)\n",
    "ymin, ymax = plt.ylim()\n",
    "w = net.coef_[0]\n",
    "a = -w[0] / w[1]\n",
    "b = - (net.intercept_[0]) / w[1]\n",
    "xs = np.linspace(ymin, ymax)\n",
    "ys = a * xs - (net.intercept_[0]) / w[1]\n",
    " \n",
    "# Plot the line\n",
    "plt.plot(xs,ys, 'k-')"
   ]
  },
  {
   "cell_type": "markdown",
   "metadata": {
    "collapsed": true
   },
   "source": [
    "# Bayes Classifier"
   ]
  },
  {
   "cell_type": "markdown",
   "metadata": {},
   "source": [
    "Below example is taken from PRML 1.5 Decision Theory, but  I changed some notations..."
   ]
  },
  {
   "cell_type": "markdown",
   "metadata": {},
   "source": [
    "* $\\mathbf{x}$: X-ray image of a patient\n",
    "* If $\\mathbf{x} \\in \\mathscr{H}_1$ then the patient has cancer, otherwise ($\\mathbf{x} \\in \\mathscr{H}_2$) does not have cancer.\n",
    "* Suppose our classifier put $\\mathbf{x}$ into class $\\mathscr{C_1}$, that means the classifier consider the patient has cancer.($\\mathscr{C_2}$ indicates the absence of cancer)."
   ]
  },
  {
   "cell_type": "markdown",
   "metadata": {},
   "source": [
    "The probability of misclassification is \n",
    "$$\n",
    "p(\\mathrm{mistake}) = p(\\mathbf{x}\\in\\mathscr{H}_1, \\mathscr{C}_2) + p(\\mathbf{x}\\in\\mathscr{H}_2, \\mathscr{C}_1) \\\\\n",
    "= \\int_{\\mathscr{H}_1} p(\\mathbf{x}, \\mathscr{C}_2) d \\mathbf{x} + \\int_{\\mathscr{H}_2} p(\\mathbf{x}, \\mathscr{C}_1) d \\mathbf{x} \\\\\n",
    "= \\int_{\\mathscr{H}_1} p(\\mathbf{x}| \\mathscr{C}_2)p(\\mathscr{C}_2) d \\mathbf{x} + \\int_{\\mathscr{H}_2} p(\\mathbf{x}| \\mathscr{C}_1)p(\\mathscr{C}_1) d \\mathbf{x}\n",
    "$$"
   ]
  },
  {
   "cell_type": "markdown",
   "metadata": {},
   "source": [
    "Likewise, the probability of correct classification is \n",
    "$$\n",
    "p(\\mathrm{correct}) = p(\\mathbf{x}\\in\\mathscr{H}_1, \\mathscr{C}_1) + p(\\mathbf{x}\\in\\mathscr{H}_2, \\mathscr{C}_2) \\\\\n",
    "= \\int_{\\mathscr{H}_1} p(\\mathbf{x}, \\mathscr{C}_1) d \\mathbf{x} + \\int_{\\mathscr{H}_2} p(\\mathbf{x}, \\mathscr{C}_2) d \\mathbf{x} \\\\\n",
    "= \\int_{\\mathscr{H}_1} p(\\mathbf{x}| \\mathscr{C}_1)p(\\mathscr{C}_1) d \\mathbf{x} + \\int_{\\mathscr{H}_2} p(\\mathbf{x}| \\mathscr{C}_2)p(\\mathscr{C}_2) d \\mathbf{x}\n",
    "$$"
   ]
  },
  {
   "cell_type": "markdown",
   "metadata": {},
   "source": [
    "Let $c_{ij}$ is a cost that the classifier assign $\\mathbf{x} \\in \\mathscr{H}_j$ into class $\\mathscr{C}_i$, we have the average **risk function $\\mathscr{R}$** as follows:"
   ]
  },
  {
   "cell_type": "markdown",
   "metadata": {},
   "source": [
    "$$\n",
    "  \\mathscr{R} = c_{11} \\int_{\\mathscr{H_1}}p_\\mathbf{x}(\\mathbf{x}|\\mathscr{C}_1)p(\\mathscr{C}_1)d\\mathbf{x} \n",
    "  + c_{22} \\int_{\\mathscr{H_2}}p_\\mathbf{x}(\\mathbf{x}|\\mathscr{C}_2)p(\\mathscr{C}_2)d\\mathbf{x} \\\\\n",
    "  + c_{21} \\int_{\\mathscr{H_2}}p_\\mathbf{x}(\\mathbf{x}|\\mathscr{C}_1)p(\\mathscr{C}_1)d\\mathbf{x}\n",
    "  + c_{12} \\int_{\\mathscr{H_1}}p_\\mathbf{x}(\\mathbf{x}|\\mathscr{C}_2)p(\\mathscr{C}_2)d\\mathbf{x}\n",
    "$$"
   ]
  },
  {
   "cell_type": "markdown",
   "metadata": {},
   "source": [
    "The costs $c_{ij}$ can be viewed as the $i,j$ element of a loss matrix such as the one shown in below (the figure retrieved from PRML p41)"
   ]
  },
  {
   "cell_type": "markdown",
   "metadata": {},
   "source": [
    "<img  src=\"Pattern-Recognition-and-Machine-Learning-Christophe-M-Bishop_pdf（60_749ページ）.png\"/>"
   ]
  },
  {
   "cell_type": "markdown",
   "metadata": {},
   "source": [
    "In the textbook, $p(\\mathscr{C}_i) = p_i$"
   ]
  },
  {
   "cell_type": "markdown",
   "metadata": {},
   "source": [
    "$$\n",
    "  \\mathscr{R} = c_{11}p_1 \\int_{\\mathscr{H_1}}p_\\mathbf{x}(\\mathbf{x}|\\mathscr{C}_1)d\\mathbf{x} \n",
    "  + c_{22}p_2 \\int_{\\mathscr{H_2}}p_\\mathbf{x}(\\mathbf{x}|\\mathscr{C}_2)d\\mathbf{x} \\\\\n",
    "  + c_{21}p_1 \\int_{\\mathscr{H_2}}p_\\mathbf{x}(\\mathbf{x}|\\mathscr{C}_1)d\\mathbf{x}\n",
    "  + c_{12}p_2 \\int_{\\mathscr{H_1}}p_\\mathbf{x}(\\mathbf{x}|\\mathscr{C}_2)d\\mathbf{x}\n",
    "$$"
   ]
  },
  {
   "cell_type": "markdown",
   "metadata": {},
   "source": [
    "But I don't use this notation anymore..."
   ]
  },
  {
   "cell_type": "markdown",
   "metadata": {},
   "source": [
    "As $\\mathscr{H} = \\mathscr{H}_1 + \\mathscr{H}_2$, we may rewrite the equation to the equivalent form:"
   ]
  },
  {
   "cell_type": "markdown",
   "metadata": {},
   "source": [
    "$$\n",
    "  \\mathscr{R} = c_{11} \\int_{\\mathscr{H_1}}p_\\mathbf{x}(\\mathbf{x}|\\mathscr{C}_1)p(\\mathscr{C}_1)d\\mathbf{x} \n",
    "  + c_{22} \\int_{\\mathscr{H}-\\mathscr{H}_1}p_\\mathbf{x}(\\mathbf{x}|\\mathscr{C}_2)p(\\mathscr{C}_2)d\\mathbf{x} \\\\\n",
    "  + c_{21} \\int_{\\mathscr{H}-\\mathscr{H}_1}p_\\mathbf{x}(\\mathbf{x}|\\mathscr{C}_1)p(\\mathscr{C}_1)d\\mathbf{x}\n",
    "  + c_{12} \\int_{\\mathscr{H_1}}p_\\mathbf{x}(\\mathbf{x}|\\mathscr{C}_2)p(\\mathscr{C}_2)d\\mathbf{x}\n",
    "$$"
   ]
  },
  {
   "cell_type": "markdown",
   "metadata": {},
   "source": [
    "As $\\int_{\\mathscr{H}}p_\\mathbf{x}(\\mathbf{x}|\\mathscr{C}_1)d\\mathbf{x}=\\int_{\\mathscr{H}}p_\\mathbf{x}(\\mathbf{x}|\\mathscr{C}_2)d\\mathbf{x} = 1$, the above equation reduced to"
   ]
  },
  {
   "cell_type": "markdown",
   "metadata": {},
   "source": [
    "$$\n",
    "  \\mathscr{R} = c_{21}p(\\mathscr{C}_1) + c_{22}p(\\mathscr{C}_2)  \\\\\n",
    "  + \\int_{\\mathscr{H_1}}[\n",
    "  (c_{12} - c_{22}) p_{\\mathbf{x}}(\\mathbf{x}|\\mathscr{C}_2)p(\\mathscr{C}_2)\n",
    "  -   (c_{21} - c_{11}) p_{\\mathbf{x}}(\\mathbf{x}|\\mathscr{C}_1)p(\\mathscr{C}_1)\n",
    "  ]d\\mathbf{x} \n",
    "$$"
   ]
  },
  {
   "cell_type": "markdown",
   "metadata": {},
   "source": [
    "In the condition \n",
    "$$\n",
    "(c_{21} - c_{11})p_\\mathbf{x}(\\mathbf{x}|\\mathscr{C}_1)p(\\mathscr{C}_1) > \n",
    "(c_{12} - c_{22})p_\\mathbf{x}(\\mathbf{x}|\\mathscr{C}_2)p(\\mathscr{C}_2)\n",
    "$$\n",
    "or equivalently,\n",
    "$$\n",
    "(c_{21} - c_{11})p_\\mathbf{x}(\\mathscr{C}_1|\\mathbf{x}) > \n",
    "(c_{12} - c_{22})p_\\mathbf{x}(\\mathscr{C}_2|\\mathbf{x})\n",
    "$$\n",
    "\n",
    "\n",
    "holds, assign the observation vector $\\mathbf{x}$ to subspace $\\mathscr{H}_1$ (i.e. class $\\mathscr{C}_1$)"
   ]
  },
  {
   "cell_type": "markdown",
   "metadata": {},
   "source": [
    "To simplify matters, define\n",
    "$$\n",
    "\\Lambda(\\mathbf{x}) = \\frac{p_{\\mathbf{x}}(\\mathbf{x}|\\mathscr{C}_1)}{p_{\\mathbf{x}}(\\mathbf{x}|\\mathscr{C}_2)}\n",
    "$$\n",
    "and\n",
    "$$\n",
    "\\xi  = \\frac{p(\\mathscr{C}_2)(c_{12}-c_{22})}{p(\\mathscr{C}_1)(c_{21}-c_{11})}\n",
    "$$"
   ]
  },
  {
   "cell_type": "markdown",
   "metadata": {},
   "source": [
    "# Bayes Classifier for a Gaussian Distribution"
   ]
  },
  {
   "cell_type": "markdown",
   "metadata": {},
   "source": [
    "Suppose the data satisfy the following statements"
   ]
  },
  {
   "cell_type": "markdown",
   "metadata": {},
   "source": [
    "<img  src=\"Haykin09_pdf（89_938ページ）.png\"/>"
   ]
  },
  {
   "cell_type": "markdown",
   "metadata": {},
   "source": [
    "Then we can express the conditional probability density function as the multivariate Gaussian distribution"
   ]
  },
  {
   "cell_type": "markdown",
   "metadata": {},
   "source": [
    "<img  src=\"Haykin09_pdf（89_938ページ）.png\"/>"
   ]
  },
  {
   "cell_type": "markdown",
   "metadata": {},
   "source": [
    "Add more assumptions:\n",
    "* $p(\\mathscr{C}_1) = p(\\mathscr{C}) = 1/2$ \n",
    "* $c_{21}=c_{12}\\ \\text{and}\\ c_{11}=c_{22}=0\\quad (\\text{no cost for correct decision})$"
   ]
  },
  {
   "cell_type": "markdown",
   "metadata": {},
   "source": [
    "We get"
   ]
  },
  {
   "cell_type": "markdown",
   "metadata": {},
   "source": [
    "<img  src=\"Haykin09_pdf（90_938ページ）.png\"/>"
   ]
  },
  {
   "cell_type": "markdown",
   "metadata": {},
   "source": [
    "and"
   ]
  },
  {
   "cell_type": "markdown",
   "metadata": {},
   "source": [
    "<img  src=\"Haykin09_pdf（90_938ページ）.png\"/>"
   ]
  },
  {
   "cell_type": "markdown",
   "metadata": {},
   "source": [
    "If $\\mathrm{y}$ is positive, assign the observation $\\mathbf{x}$ to class $\\mathscr{C}_1$ otherwise $\\mathscr{C}_2$. It's analogous to our two-class perceptron."
   ]
  },
  {
   "cell_type": "markdown",
   "metadata": {},
   "source": [
    "# Batch perceptron algorithm"
   ]
  },
  {
   "cell_type": "markdown",
   "metadata": {
    "collapsed": true
   },
   "source": [
    "The perceptorn cost function is\n",
    "$$\n",
    "J(\\mathbf{w}) = \\sum_{\\mathbf{x(n)} \\in \\mathscr{R}} (-\\mathbf{w}^T \\mathbf{x}(n)d(n))\n",
    "$$\n",
    "$\\mathscr{R}$ is the set of misclassified samples.\n",
    "Learning algorithm of the batch perceptorn is"
   ]
  },
  {
   "cell_type": "markdown",
   "metadata": {},
   "source": [
    "<img  src=\"Haykin09_pdf（96_938ページ）.png\"/>"
   ]
  },
  {
   "cell_type": "markdown",
   "metadata": {},
   "source": [
    "# Generative model vs discriminative model\n",
    "* Directory model $p(\\mathscr{C}_k|\\mathbf{x})$ ⇒ discriminative model\n",
    "* First model $p(\\mathbf{x}|\\mathscr{C}_k)$ and $p(\\mathscr{C}_k)$. Compute $$\n",
    "p(\\mathscr{C}_k|\\mathbf{x}) = \\frac{p(\\mathbf{x}|\\mathscr{C}_k)p(\\mathscr{C}_k)}{p(\\mathbf{x})}\n",
    "$$ ⇒ generative model\n",
    "\n",
    "note that \n",
    "$$\n",
    "p(\\mathbf{x}) = \\sum_{k} p(\\mathbf{x}|\\mathscr{C}_k)p(\\mathscr{C}_k)\n",
    "$$"
   ]
  },
  {
   "cell_type": "markdown",
   "metadata": {},
   "source": [
    "# Naive Bayes"
   ]
  },
  {
   "cell_type": "code",
   "execution_count": null,
   "metadata": {
    "collapsed": true
   },
   "outputs": [],
   "source": []
  }
 ],
 "metadata": {
  "kernelspec": {
   "display_name": "Python 3",
   "language": "python",
   "name": "python3"
  },
  "language_info": {
   "codemirror_mode": {
    "name": "ipython",
    "version": 3
   },
   "file_extension": ".py",
   "mimetype": "text/x-python",
   "name": "python",
   "nbconvert_exporter": "python",
   "pygments_lexer": "ipython3",
   "version": "3.5.1"
  }
 },
 "nbformat": 4,
 "nbformat_minor": 0
}
